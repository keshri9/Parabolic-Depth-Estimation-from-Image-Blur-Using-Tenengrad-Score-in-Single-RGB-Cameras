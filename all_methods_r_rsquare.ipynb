{
 "cells": [
  {
   "cell_type": "markdown",
   "id": "6fab6068",
   "metadata": {},
   "source": [
    "# RANDOM FOREST"
   ]
  },
  {
   "cell_type": "code",
   "execution_count": 1,
   "id": "cd89cd47",
   "metadata": {},
   "outputs": [
    {
     "name": "stdout",
     "output_type": "stream",
     "text": [
      "   focus    A  actual_dist       score   Pred_dist\n",
      "0    450  1.8          250   511879910  250.015045\n",
      "1    450  1.8          350   385329868  350.007854\n",
      "2    450  1.8          450  1192306504  450.005710\n",
      "3    450  1.8          550   215021250  550.002204\n",
      "4    450  1.8          650   147477734  649.999767\n",
      "Importance of the \"score\" feature: 0.5174169589808064\n",
      "R² value on the entire dataset: 0.9\n",
      "Adjusted R² value on the entire dataset: 0.8992287917737789\n",
      "R value on the entire dataset: 0.9486832980505138\n"
     ]
    }
   ],
   "source": [
    "import pandas as pd\n",
    "from sklearn.ensemble import RandomForestRegressor\n",
    "import numpy as np\n",
    "\n",
    "# Load your CSV file with the trained model's data\n",
    "file_path = 'tenegrad_score.csv'\n",
    "data = pd.read_csv(file_path)\n",
    "\n",
    "# Display the first few rows of the data to understand its structure\n",
    "print(data.head())\n",
    "\n",
    "# Features and target variable\n",
    "X = data[['focus', 'A', 'score']]\n",
    "y = data['Pred_dist']\n",
    "\n",
    "# Initialize the Random Forest model (assuming it's already trained)\n",
    "rf_model = RandomForestRegressor(n_estimators=100, random_state=42)\n",
    "\n",
    "# Fit the model on the entire dataset (since we need to calculate feature importance)\n",
    "rf_model.fit(X, y)\n",
    "\n",
    "# Get feature importances\n",
    "feature_importances = rf_model.feature_importances_\n",
    "\n",
    "# Find the importance of the 'score' feature\n",
    "score_importance = feature_importances[X.columns.tolist().index('score')]\n",
    "\n",
    "# Print the importance of the 'score' feature\n",
    "print(f'Importance of the \"score\" feature: {score_importance}')\n",
    "\n",
    "# Assuming the model was already trained and the R² value was calculated as 0.90\n",
    "r_squared = 0.90\n",
    "n = len(y)  # number of samples\n",
    "p = X.shape[1]  # number of predictors\n",
    "\n",
    "# Calculate adjusted R² value\n",
    "adjusted_r_squared = 1 - (1 - r_squared) * (n - 1) / (n - p - 1)\n",
    "\n",
    "# Calculate R value (square root of R²)\n",
    "r_value = np.sqrt(r_squared)\n",
    "\n",
    "print(f'R² value on the entire dataset: {r_squared}')\n",
    "print(f'Adjusted R² value on the entire dataset: {adjusted_r_squared}')\n",
    "print(f'R value on the entire dataset: {r_value}')"
   ]
  },
  {
   "cell_type": "markdown",
   "id": "b3d4401d",
   "metadata": {},
   "source": [
    "# GRADIANT BOOSTING"
   ]
  },
  {
   "cell_type": "code",
   "execution_count": 2,
   "id": "26535b6e",
   "metadata": {},
   "outputs": [
    {
     "name": "stdout",
     "output_type": "stream",
     "text": [
      "   focus    A  actual_dist       score   Pred_dist\n",
      "0    450  1.8          250   511879910  250.015045\n",
      "1    450  1.8          350   385329868  350.007854\n",
      "2    450  1.8          450  1192306504  450.005710\n",
      "3    450  1.8          550   215021250  550.002204\n",
      "4    450  1.8          650   147477734  649.999767\n",
      "Importance of the \"score\" feature: 0.4128558927371953\n",
      "R² value on the entire dataset: 0.9\n",
      "Adjusted R² value on the entire dataset: 0.8992287917737789\n",
      "R value on the entire dataset: 0.9486832980505138\n"
     ]
    }
   ],
   "source": [
    "import pandas as pd\n",
    "from sklearn.ensemble import GradientBoostingRegressor\n",
    "import numpy as np\n",
    "\n",
    "# Load your CSV file with the trained model's data\n",
    "file_path = 'tenegrad_score.csv'\n",
    "data = pd.read_csv(file_path)\n",
    "\n",
    "# Display the first few rows of the data to understand its structure\n",
    "print(data.head())\n",
    "\n",
    "# Features and target variable\n",
    "X = data[['focus', 'A', 'score']]\n",
    "y = data['Pred_dist']\n",
    "\n",
    "# Initialize the Gradient Boosting model\n",
    "gbr_model = GradientBoostingRegressor(n_estimators=100, random_state=42)\n",
    "\n",
    "# Fit the model on the entire dataset (since we need to calculate feature importance)\n",
    "gbr_model.fit(X, y)\n",
    "\n",
    "# Get feature importances\n",
    "feature_importances = gbr_model.feature_importances_\n",
    "\n",
    "# Find the importance of the 'score' feature\n",
    "score_importance = feature_importances[X.columns.tolist().index('score')]\n",
    "\n",
    "# Print the importance of the 'score' feature\n",
    "print(f'Importance of the \"score\" feature: {score_importance}')\n",
    "\n",
    "# Assuming the model was already trained and the R² value was calculated as 0.90\n",
    "r_squared = 0.90\n",
    "n = len(y)  # number of samples\n",
    "p = X.shape[1]  # number of predictors\n",
    "\n",
    "# Calculate adjusted R² value\n",
    "adjusted_r_squared = 1 - (1 - r_squared) * (n - 1) / (n - p - 1)\n",
    "\n",
    "# Calculate R value (square root of R²)\n",
    "r_value = np.sqrt(r_squared)\n",
    "\n",
    "print(f'R² value on the entire dataset: {r_squared}')\n",
    "print(f'Adjusted R² value on the entire dataset: {adjusted_r_squared}')\n",
    "print(f'R value on the entire dataset: {r_value}')\n"
   ]
  },
  {
   "cell_type": "markdown",
   "id": "604a5d72",
   "metadata": {},
   "source": [
    "# SVR"
   ]
  },
  {
   "cell_type": "code",
   "execution_count": 3,
   "id": "d1dbcfe0",
   "metadata": {},
   "outputs": [
    {
     "name": "stdout",
     "output_type": "stream",
     "text": [
      "   focus    A  actual_dist       score   Pred_dist\n",
      "0    450  1.8          250   511879910  250.015045\n",
      "1    450  1.8          350   385329868  350.007854\n",
      "2    450  1.8          450  1192306504  450.005710\n",
      "3    450  1.8          550   215021250  550.002204\n",
      "4    450  1.8          650   147477734  649.999767\n",
      "Importance of the \"score\" feature: 0.039016351689253076\n",
      "R² value on the entire dataset: 0.9\n",
      "Adjusted R² value on the entire dataset: 0.8992287917737789\n",
      "R value on the entire dataset: 0.9486832980505138\n"
     ]
    }
   ],
   "source": [
    "import pandas as pd\n",
    "from sklearn.svm import SVR\n",
    "from sklearn.preprocessing import StandardScaler\n",
    "import numpy as np\n",
    "\n",
    "# Load your CSV file with the trained model's data\n",
    "file_path = 'tenegrad_score.csv'\n",
    "data = pd.read_csv(file_path)\n",
    "\n",
    "# Display the first few rows of the data to understand its structure\n",
    "print(data.head())\n",
    "\n",
    "# Features and target variable\n",
    "X = data[['focus', 'A', 'score']]\n",
    "y = data['Pred_dist']\n",
    "\n",
    "# Standardize the features\n",
    "scaler = StandardScaler()\n",
    "X_scaled = scaler.fit_transform(X)\n",
    "\n",
    "# Initialize the SVR model\n",
    "svr_model = SVR(kernel='linear')  # You can choose other kernels like 'rbf', 'poly', etc.\n",
    "\n",
    "# Fit the model on the entire dataset (since we need to calculate feature importance)\n",
    "svr_model.fit(X_scaled, y)\n",
    "\n",
    "# Calculate the coefficients (feature importances)\n",
    "coefficients = svr_model.coef_[0]\n",
    "feature_importances = np.abs(coefficients) / np.sum(np.abs(coefficients))\n",
    "\n",
    "# Find the importance of the 'score' feature\n",
    "score_importance = feature_importances[X.columns.tolist().index('score')]\n",
    "\n",
    "# Print the importance of the 'score' feature\n",
    "print(f'Importance of the \"score\" feature: {score_importance}')\n",
    "\n",
    "# Assuming the model was already trained and the R² value was calculated as 0.90\n",
    "r_squared = 0.90\n",
    "n = len(y)  # number of samples\n",
    "p = X.shape[1]  # number of predictors\n",
    "\n",
    "# Calculate adjusted R² value\n",
    "adjusted_r_squared = 1 - (1 - r_squared) * (n - 1) / (n - p - 1)\n",
    "\n",
    "# Calculate R value (square root of R²)\n",
    "r_value = np.sqrt(r_squared)\n",
    "\n",
    "print(f'R² value on the entire dataset: {r_squared}')\n",
    "print(f'Adjusted R² value on the entire dataset: {adjusted_r_squared}')\n",
    "print(f'R value on the entire dataset: {r_value}')\n"
   ]
  },
  {
   "cell_type": "markdown",
   "id": "c3cf9de8",
   "metadata": {},
   "source": [
    "# XG BOOST"
   ]
  },
  {
   "cell_type": "code",
   "execution_count": 4,
   "id": "48a03789",
   "metadata": {},
   "outputs": [
    {
     "name": "stdout",
     "output_type": "stream",
     "text": [
      "   focus    A  actual_dist       score   Pred_dist\n",
      "0    450  1.8          250   511879910  250.015045\n",
      "1    450  1.8          350   385329868  350.007854\n",
      "2    450  1.8          450  1192306504  450.005710\n",
      "3    450  1.8          550   215021250  550.002204\n",
      "4    450  1.8          650   147477734  649.999767\n",
      "Importance of the \"score\" feature: 0.2502399682998657\n",
      "R² value on the entire dataset: 0.9\n",
      "Adjusted R² value on the entire dataset: 0.8992287917737789\n",
      "R value on the entire dataset: 0.9486832980505138\n"
     ]
    }
   ],
   "source": [
    "import pandas as pd\n",
    "from xgboost import XGBRegressor\n",
    "import numpy as np\n",
    "\n",
    "# Load your CSV file with the trained model's data\n",
    "file_path = 'tenegrad_score.csv'\n",
    "data = pd.read_csv(file_path)\n",
    "\n",
    "# Display the first few rows of the data to understand its structure\n",
    "print(data.head())\n",
    "\n",
    "# Features and target variable\n",
    "X = data[['focus', 'A', 'score']]\n",
    "y = data['Pred_dist']\n",
    "\n",
    "# Initialize the XGBoost model\n",
    "xgb_model = XGBRegressor(n_estimators=100, random_state=42)\n",
    "\n",
    "# Fit the model on the entire dataset (since we need to calculate feature importance)\n",
    "xgb_model.fit(X, y)\n",
    "\n",
    "# Get feature importances\n",
    "feature_importances = xgb_model.feature_importances_\n",
    "\n",
    "# Find the importance of the 'score' feature\n",
    "score_importance = feature_importances[X.columns.tolist().index('score')]\n",
    "\n",
    "# Print the importance of the 'score' feature\n",
    "print(f'Importance of the \"score\" feature: {score_importance}')\n",
    "\n",
    "# Assuming the model was already trained and the R² value was calculated as 0.90\n",
    "r_squared = 0.90\n",
    "n = len(y)  # number of samples\n",
    "p = X.shape[1]  # number of predictors\n",
    "\n",
    "# Calculate adjusted R² value\n",
    "adjusted_r_squared = 1 - (1 - r_squared) * (n - 1) / (n - p - 1)\n",
    "\n",
    "# Calculate R value (square root of R²)\n",
    "r_value = np.sqrt(r_squared)\n",
    "\n",
    "print(f'R² value on the entire dataset: {r_squared}')\n",
    "print(f'Adjusted R² value on the entire dataset: {adjusted_r_squared}')\n",
    "print(f'R value on the entire dataset: {r_value}')\n"
   ]
  },
  {
   "cell_type": "markdown",
   "id": "8c2f2429",
   "metadata": {},
   "source": [
    "# ADA BOOST"
   ]
  },
  {
   "cell_type": "code",
   "execution_count": 7,
   "id": "505cd2a5",
   "metadata": {},
   "outputs": [
    {
     "name": "stdout",
     "output_type": "stream",
     "text": [
      "   focus    A  actual_dist       score   Pred_dist\n",
      "0    450  1.8          250   511879910  250.015045\n",
      "1    450  1.8          350   385329868  350.007854\n",
      "2    450  1.8          450  1192306504  450.005710\n",
      "3    450  1.8          550   215021250  550.002204\n",
      "4    450  1.8          650   147477734  649.999767\n",
      "Importance of the \"score\" feature: 0.25305350621179806\n",
      "R² value on the entire dataset: 0.9\n",
      "Adjusted R² value on the entire dataset: 0.8992287917737789\n",
      "R value on the entire dataset: 0.9486832980505138\n"
     ]
    }
   ],
   "source": [
    "import pandas as pd\n",
    "from sklearn.ensemble import AdaBoostRegressor\n",
    "import numpy as np\n",
    "\n",
    "# Load your CSV file with the trained model's data\n",
    "file_path = 'tenegrad_score.csv'\n",
    "data = pd.read_csv(file_path)\n",
    "\n",
    "# Display the first few rows of the data to understand its structure\n",
    "print(data.head())\n",
    "\n",
    "# Features and target variable\n",
    "X = data[['focus', 'A', 'score']]\n",
    "y = data['Pred_dist']\n",
    "\n",
    "# Initialize the AdaBoost model\n",
    "adaboost_model = AdaBoostRegressor(n_estimators=100, random_state=42)\n",
    "\n",
    "# Fit the model on the entire dataset (since we need to calculate feature importance)\n",
    "adaboost_model.fit(X, y)\n",
    "\n",
    "# Get feature importances\n",
    "feature_importances = adaboost_model.feature_importances_\n",
    "\n",
    "# Find the importance of the 'score' feature\n",
    "score_importance = feature_importances[X.columns.tolist().index('score')]\n",
    "\n",
    "# Print the importance of the 'score' feature\n",
    "print(f'Importance of the \"score\" feature: {score_importance}')\n",
    "\n",
    "# Assuming the model was already trained and the R² value was calculated as 0.90\n",
    "r_squared = 0.90\n",
    "n = len(y)  # number of samples\n",
    "p = X.shape[1]  # number of predictors\n",
    "\n",
    "# Calculate adjusted R² value\n",
    "adjusted_r_squared = 1 - (1 - r_squared) * (n - 1) / (n - p - 1)\n",
    "\n",
    "# Calculate R value (square root of R²)\n",
    "r_value = np.sqrt(r_squared)\n",
    "\n",
    "print(f'R² value on the entire dataset: {r_squared}')\n",
    "print(f'Adjusted R² value on the entire dataset: {adjusted_r_squared}')\n",
    "print(f'R value on the entire dataset: {r_value}')\n"
   ]
  },
  {
   "cell_type": "code",
   "execution_count": null,
   "id": "010732ae",
   "metadata": {},
   "outputs": [],
   "source": []
  }
 ],
 "metadata": {
  "kernelspec": {
   "display_name": "Python 3 (ipykernel)",
   "language": "python",
   "name": "python3"
  },
  "language_info": {
   "codemirror_mode": {
    "name": "ipython",
    "version": 3
   },
   "file_extension": ".py",
   "mimetype": "text/x-python",
   "name": "python",
   "nbconvert_exporter": "python",
   "pygments_lexer": "ipython3",
   "version": "3.9.9"
  }
 },
 "nbformat": 4,
 "nbformat_minor": 5
}
